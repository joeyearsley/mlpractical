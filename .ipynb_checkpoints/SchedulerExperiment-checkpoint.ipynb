{
 "cells": [
  {
   "cell_type": "markdown",
   "metadata": {},
   "source": [
    "In this notebook, I will experiment with different schedulers, seeing which can improve the standard coursework 1 setup."
   ]
  },
  {
   "cell_type": "code",
   "execution_count": 2,
   "metadata": {
    "collapsed": false
   },
   "outputs": [
    {
     "name": "stderr",
     "output_type": "stream",
     "text": [
      "INFO:root:Initialising data providers...\n"
     ]
    }
   ],
   "source": [
    "import numpy\n",
    "import logging\n",
    "from mlp.dataset import MNISTDataProvider\n",
    "\n",
    "logger = logging.getLogger()\n",
    "logger.setLevel(logging.INFO)\n",
    "logger.info('Initialising data providers...')\n",
    "\n",
    "train_dp = MNISTDataProvider(dset='train', batch_size=10, max_num_batches=100, randomize=True)\n",
    "valid_dp = MNISTDataProvider(dset='valid', batch_size=10000, max_num_batches=-10, randomize=False)\n",
    "test_dp = MNISTDataProvider(dset='eval', batch_size=10000, max_num_batches=-10, randomize=False)"
   ]
  },
  {
   "cell_type": "code",
   "execution_count": 4,
   "metadata": {
    "collapsed": false
   },
   "outputs": [
    {
     "name": "stderr",
     "output_type": "stream",
     "text": [
      "INFO:root:Training started...\n",
      "INFO:mlp.optimisers:Epoch 1: Training cost (ce) for initial model is 2.624. Accuracy is 8.60%\n",
      "INFO:mlp.optimisers:Epoch 1: Validation cost (ce) for initial model is 2.554. Accuracy is 9.84%\n",
      "INFO:mlp.optimisers:Epoch 2: Training cost (ce) is 2.888. Accuracy is 57.30%\n",
      "INFO:mlp.optimisers:Epoch 2: Validation cost (ce) is 0.656. Accuracy is 79.20%\n",
      "INFO:mlp.optimisers:Epoch 2: Took 4 seconds. Training speed 470 pps. Validation speed 5833 pps.\n",
      "INFO:mlp.optimisers:Epoch 3: Training cost (ce) is 0.421. Accuracy is 88.30%\n",
      "INFO:mlp.optimisers:Epoch 3: Validation cost (ce) is 0.428. Accuracy is 87.70%\n",
      "INFO:mlp.optimisers:Epoch 3: Took 4 seconds. Training speed 476 pps. Validation speed 5935 pps.\n",
      "INFO:mlp.optimisers:Epoch 4: Training cost (ce) is 0.332. Accuracy is 90.90%\n",
      "INFO:mlp.optimisers:Epoch 4: Validation cost (ce) is 0.392. Accuracy is 88.35%\n",
      "INFO:mlp.optimisers:Epoch 4: Took 4 seconds. Training speed 477 pps. Validation speed 5918 pps.\n",
      "INFO:mlp.optimisers:Epoch 5: Training cost (ce) is 0.282. Accuracy is 91.90%\n",
      "INFO:mlp.optimisers:Epoch 5: Validation cost (ce) is 0.389. Accuracy is 88.06%\n",
      "INFO:mlp.optimisers:Epoch 5: Took 4 seconds. Training speed 500 pps. Validation speed 5774 pps.\n",
      "INFO:mlp.optimisers:Epoch 6: Training cost (ce) is 0.243. Accuracy is 93.50%\n",
      "INFO:mlp.optimisers:Epoch 6: Validation cost (ce) is 0.380. Accuracy is 88.83%\n",
      "INFO:mlp.optimisers:Epoch 6: Took 4 seconds. Training speed 464 pps. Validation speed 5798 pps.\n",
      "INFO:mlp.optimisers:Epoch 7: Training cost (ce) is 0.214. Accuracy is 94.90%\n",
      "INFO:mlp.optimisers:Epoch 7: Validation cost (ce) is 0.389. Accuracy is 88.52%\n",
      "INFO:mlp.optimisers:Epoch 7: Took 4 seconds. Training speed 472 pps. Validation speed 5828 pps.\n",
      "INFO:mlp.optimisers:Epoch 8: Training cost (ce) is 0.187. Accuracy is 96.40%\n",
      "INFO:mlp.optimisers:Epoch 8: Validation cost (ce) is 0.387. Accuracy is 88.51%\n",
      "INFO:mlp.optimisers:Epoch 8: Took 4 seconds. Training speed 489 pps. Validation speed 5781 pps.\n",
      "INFO:mlp.optimisers:Epoch 9: Training cost (ce) is 0.161. Accuracy is 96.80%\n",
      "INFO:mlp.optimisers:Epoch 9: Validation cost (ce) is 0.362. Accuracy is 89.40%\n",
      "INFO:mlp.optimisers:Epoch 9: Took 4 seconds. Training speed 468 pps. Validation speed 5616 pps.\n",
      "INFO:mlp.optimisers:Epoch 10: Training cost (ce) is 0.147. Accuracy is 97.30%\n",
      "INFO:mlp.optimisers:Epoch 10: Validation cost (ce) is 0.354. Accuracy is 89.65%\n",
      "INFO:mlp.optimisers:Epoch 10: Took 4 seconds. Training speed 465 pps. Validation speed 5753 pps.\n",
      "INFO:mlp.optimisers:Epoch 11: Training cost (ce) is 0.126. Accuracy is 98.40%\n",
      "INFO:mlp.optimisers:Epoch 11: Validation cost (ce) is 0.361. Accuracy is 89.68%\n",
      "INFO:mlp.optimisers:Epoch 11: Took 4 seconds. Training speed 446 pps. Validation speed 5743 pps.\n",
      "INFO:mlp.optimisers:Epoch 12: Training cost (ce) is 0.118. Accuracy is 98.40%\n",
      "INFO:mlp.optimisers:Epoch 12: Validation cost (ce) is 0.366. Accuracy is 89.58%\n",
      "INFO:mlp.optimisers:Epoch 12: Took 4 seconds. Training speed 489 pps. Validation speed 5698 pps.\n",
      "INFO:mlp.optimisers:Epoch 13: Training cost (ce) is 0.092. Accuracy is 99.20%\n",
      "INFO:mlp.optimisers:Epoch 13: Validation cost (ce) is 0.362. Accuracy is 89.64%\n",
      "INFO:mlp.optimisers:Epoch 13: Took 4 seconds. Training speed 475 pps. Validation speed 5811 pps.\n",
      "INFO:mlp.optimisers:Epoch 14: Training cost (ce) is 0.088. Accuracy is 99.10%\n",
      "INFO:mlp.optimisers:Epoch 14: Validation cost (ce) is 0.364. Accuracy is 89.55%\n",
      "INFO:mlp.optimisers:Epoch 14: Took 4 seconds. Training speed 477 pps. Validation speed 5893 pps.\n",
      "INFO:mlp.optimisers:Epoch 15: Training cost (ce) is 0.084. Accuracy is 99.20%\n",
      "INFO:mlp.optimisers:Epoch 15: Validation cost (ce) is 0.366. Accuracy is 89.66%\n",
      "INFO:mlp.optimisers:Epoch 15: Took 4 seconds. Training speed 475 pps. Validation speed 5809 pps.\n",
      "INFO:mlp.optimisers:Epoch 16: Training cost (ce) is 0.081. Accuracy is 99.10%\n",
      "INFO:mlp.optimisers:Epoch 16: Validation cost (ce) is 0.363. Accuracy is 89.70%\n",
      "INFO:mlp.optimisers:Epoch 16: Took 4 seconds. Training speed 477 pps. Validation speed 5839 pps.\n",
      "INFO:mlp.optimisers:Epoch 17: Training cost (ce) is 0.077. Accuracy is 99.20%\n",
      "INFO:mlp.optimisers:Epoch 17: Validation cost (ce) is 0.367. Accuracy is 89.46%\n",
      "INFO:mlp.optimisers:Epoch 17: Took 4 seconds. Training speed 476 pps. Validation speed 5884 pps.\n",
      "INFO:mlp.optimisers:Epoch 18: Training cost (ce) is 0.075. Accuracy is 99.20%\n",
      "INFO:mlp.optimisers:Epoch 18: Validation cost (ce) is 0.368. Accuracy is 89.62%\n",
      "INFO:mlp.optimisers:Epoch 18: Took 4 seconds. Training speed 484 pps. Validation speed 5864 pps.\n",
      "INFO:mlp.optimisers:Epoch 19: Training cost (ce) is 0.072. Accuracy is 99.40%\n",
      "INFO:mlp.optimisers:Epoch 19: Validation cost (ce) is 0.372. Accuracy is 89.69%\n",
      "INFO:mlp.optimisers:Epoch 19: Took 4 seconds. Training speed 471 pps. Validation speed 5922 pps.\n",
      "INFO:mlp.optimisers:Epoch 20: Training cost (ce) is 0.069. Accuracy is 99.40%\n",
      "INFO:mlp.optimisers:Epoch 20: Validation cost (ce) is 0.369. Accuracy is 89.65%\n",
      "INFO:mlp.optimisers:Epoch 20: Took 4 seconds. Training speed 489 pps. Validation speed 5676 pps.\n",
      "INFO:mlp.optimisers:Epoch 21: Training cost (ce) is 0.067. Accuracy is 99.20%\n",
      "INFO:mlp.optimisers:Epoch 21: Validation cost (ce) is 0.372. Accuracy is 89.37%\n",
      "INFO:mlp.optimisers:Epoch 21: Took 4 seconds. Training speed 474 pps. Validation speed 5931 pps.\n",
      "INFO:mlp.optimisers:Epoch 22: Training cost (ce) is 0.065. Accuracy is 99.40%\n",
      "INFO:mlp.optimisers:Epoch 22: Validation cost (ce) is 0.373. Accuracy is 89.50%\n",
      "INFO:mlp.optimisers:Epoch 22: Took 4 seconds. Training speed 494 pps. Validation speed 5802 pps.\n",
      "INFO:mlp.optimisers:Epoch 23: Training cost (ce) is 0.061. Accuracy is 99.50%\n",
      "INFO:mlp.optimisers:Epoch 23: Validation cost (ce) is 0.369. Accuracy is 89.71%\n",
      "INFO:mlp.optimisers:Epoch 23: Took 4 seconds. Training speed 477 pps. Validation speed 5962 pps.\n",
      "INFO:mlp.optimisers:Epoch 24: Training cost (ce) is 0.060. Accuracy is 99.50%\n",
      "INFO:mlp.optimisers:Epoch 24: Validation cost (ce) is 0.370. Accuracy is 89.63%\n",
      "INFO:mlp.optimisers:Epoch 24: Took 4 seconds. Training speed 474 pps. Validation speed 5853 pps.\n",
      "INFO:mlp.optimisers:Epoch 25: Training cost (ce) is 0.059. Accuracy is 99.50%\n",
      "INFO:mlp.optimisers:Epoch 25: Validation cost (ce) is 0.371. Accuracy is 89.66%\n",
      "INFO:mlp.optimisers:Epoch 25: Took 4 seconds. Training speed 487 pps. Validation speed 5780 pps.\n",
      "INFO:mlp.optimisers:Epoch 26: Training cost (ce) is 0.058. Accuracy is 99.50%\n",
      "INFO:mlp.optimisers:Epoch 26: Validation cost (ce) is 0.372. Accuracy is 89.61%\n",
      "INFO:mlp.optimisers:Epoch 26: Took 4 seconds. Training speed 482 pps. Validation speed 5684 pps.\n",
      "INFO:mlp.optimisers:Epoch 27: Training cost (ce) is 0.057. Accuracy is 99.50%\n",
      "INFO:mlp.optimisers:Epoch 27: Validation cost (ce) is 0.371. Accuracy is 89.67%\n",
      "INFO:mlp.optimisers:Epoch 27: Took 4 seconds. Training speed 473 pps. Validation speed 5789 pps.\n",
      "INFO:mlp.optimisers:Epoch 28: Training cost (ce) is 0.057. Accuracy is 99.60%\n",
      "INFO:mlp.optimisers:Epoch 28: Validation cost (ce) is 0.372. Accuracy is 89.66%\n",
      "INFO:mlp.optimisers:Epoch 28: Took 4 seconds. Training speed 485 pps. Validation speed 5924 pps.\n",
      "INFO:mlp.optimisers:Epoch 29: Training cost (ce) is 0.056. Accuracy is 99.60%\n",
      "INFO:mlp.optimisers:Epoch 29: Validation cost (ce) is 0.373. Accuracy is 89.64%\n",
      "INFO:mlp.optimisers:Epoch 29: Took 4 seconds. Training speed 476 pps. Validation speed 5786 pps.\n",
      "INFO:mlp.optimisers:Epoch 30: Training cost (ce) is 0.055. Accuracy is 99.50%\n",
      "INFO:mlp.optimisers:Epoch 30: Validation cost (ce) is 0.374. Accuracy is 89.72%\n",
      "INFO:mlp.optimisers:Epoch 30: Took 4 seconds. Training speed 476 pps. Validation speed 5922 pps.\n",
      "INFO:mlp.optimisers:Epoch 31: Training cost (ce) is 0.055. Accuracy is 99.50%\n",
      "INFO:mlp.optimisers:Epoch 31: Validation cost (ce) is 0.373. Accuracy is 89.60%\n",
      "INFO:mlp.optimisers:Epoch 30: Took 4 seconds. Training speed 473 pps. Validation speed 5784 pps.\n",
      "INFO:root:Testing the model on test set:\n",
      "INFO:root:MNIST test set accuracy is 89.10 %, cost (ce) is 0.384\n"
     ]
    }
   ],
   "source": [
    "#Baseline experiment\n",
    "\n",
    "from mlp.layers import MLP, Linear, Sigmoid, Softmax #import required layer types\n",
    "from mlp.optimisers import SGDOptimiser #import the optimiser\n",
    "\n",
    "from mlp.costs import CECost #import the cost we want to use for optimisation\n",
    "from mlp.schedulers import LearningRateExponential\n",
    "\n",
    "logger = logging.getLogger()\n",
    "logger.setLevel(logging.INFO)\n",
    "rng = numpy.random.RandomState([2015,10,10])\n",
    "\n",
    "#some hyper-parameters\n",
    "nhid = 800\n",
    "learning_rate = 0.5\n",
    "max_epochs = 30\n",
    "cost = CECost()\n",
    "    \n",
    "stats = []\n",
    "for layer in xrange(1, 2):\n",
    "\n",
    "    train_dp.reset()\n",
    "    valid_dp.reset()\n",
    "    test_dp.reset()\n",
    "    \n",
    "    #define the model\n",
    "    model = MLP(cost=cost)\n",
    "    model.add_layer(Sigmoid(idim=784, odim=nhid, irange=0.2, rng=rng))\n",
    "    for i in xrange(1, layer):\n",
    "        logger.info(\"Stacking hidden layer (%s)\" % str(i+1))\n",
    "        model.add_layer(Sigmoid(idim=nhid, odim=nhid, irange=0.2, rng=rng))\n",
    "    model.add_layer(Softmax(idim=nhid, odim=10, rng=rng))\n",
    "\n",
    "    # define the optimiser, here stochasitc gradient descent\n",
    "    # with fixed learning rate and max_epochs\n",
    "    lr_scheduler = LearningRateExponential(start_rate=learning_rate, max_epochs=max_epochs, training_size=10)\n",
    "    optimiser = SGDOptimiser(lr_scheduler=lr_scheduler)\n",
    "\n",
    "    logger.info('Training started...')\n",
    "    tr_stats, valid_stats = optimiser.train(model, train_dp, valid_dp)\n",
    "\n",
    "    logger.info('Testing the model on test set:')\n",
    "    tst_cost, tst_accuracy = optimiser.validate(model, test_dp)\n",
    "    logger.info('MNIST test set accuracy is %.2f %%, cost (%s) is %.3f'%(tst_accuracy*100., cost.get_name(), tst_cost))\n",
    "    \n",
    "    stats.append((tr_stats, valid_stats, (tst_cost, tst_accuracy)))"
   ]
  },
  {
   "cell_type": "code",
   "execution_count": null,
   "metadata": {
    "collapsed": true
   },
   "outputs": [],
   "source": []
  },
  {
   "cell_type": "code",
   "execution_count": null,
   "metadata": {
    "collapsed": true
   },
   "outputs": [],
   "source": []
  }
 ],
 "metadata": {
  "kernelspec": {
   "display_name": "Python 2",
   "language": "python",
   "name": "python2"
  },
  "language_info": {
   "codemirror_mode": {
    "name": "ipython",
    "version": 2
   },
   "file_extension": ".py",
   "mimetype": "text/x-python",
   "name": "python",
   "nbconvert_exporter": "python",
   "pygments_lexer": "ipython2",
   "version": "2.7.10"
  }
 },
 "nbformat": 4,
 "nbformat_minor": 0
}
