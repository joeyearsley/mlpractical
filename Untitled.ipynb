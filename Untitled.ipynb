{
 "cells": [
  {
   "cell_type": "code",
   "execution_count": 4,
   "metadata": {
    "collapsed": false
   },
   "outputs": [
    {
     "data": {
      "text/plain": [
       "True"
      ]
     },
     "execution_count": 4,
     "metadata": {},
     "output_type": "execute_result"
    }
   ],
   "source": [
    "from mlp.utils import test_conv_linear_fprop\n",
    "from mlp.conv import ConvLinear\n",
    "\n",
    "#from mlp.conv import ConvLinear\n",
    "\n",
    "layer = ConvLinear(3,2,kernel_shape=(2,2))\n",
    "test_conv_linear_fprop(layer)"
   ]
  },
  {
   "cell_type": "code",
   "execution_count": 1,
   "metadata": {
    "collapsed": false
   },
   "outputs": [
    {
     "name": "stdout",
     "output_type": "stream",
     "text": [
      "(2, 3, 2, 2) temp\n"
     ]
    },
    {
     "data": {
      "text/plain": [
       "True"
      ]
     },
     "execution_count": 1,
     "metadata": {},
     "output_type": "execute_result"
    }
   ],
   "source": [
    "from mlp.utils import test_conv_linear_bprop\n",
    "from mlp.conv import ConvLinear\n",
    "\n",
    "layer = ConvLinear(3,2, kernel_shape=(2,2))\n",
    "test_conv_linear_bprop(layer)"
   ]
  },
  {
   "cell_type": "code",
   "execution_count": 1,
   "metadata": {
    "collapsed": false
   },
   "outputs": [
    {
     "data": {
      "text/plain": [
       "True"
      ]
     },
     "execution_count": 1,
     "metadata": {},
     "output_type": "execute_result"
    }
   ],
   "source": [
    "from mlp.utils import test_conv_linear_pgrads\n",
    "from mlp.conv import ConvLinear\n",
    "\n",
    "layer = ConvLinear(3,2, kernel_shape=(2,2))\n",
    "test_conv_linear_pgrads(layer)"
   ]
  },
  {
   "cell_type": "code",
   "execution_count": 17,
   "metadata": {
    "collapsed": false
   },
   "outputs": [
    {
     "name": "stdout",
     "output_type": "stream",
     "text": [
      "(500.0, (0, 1))\n"
     ]
    }
   ],
   "source": [
    "from mlp.layers import max_and_argmax\n",
    "import numpy\n",
    "\n",
    "y = numpy.array(\n",
    "      [[[[  496.,   500.,   436.],\n",
    "         [  376.,   500.,   316.],\n",
    "         [  256.,   226.,   500.]],\n",
    "        [[ 1385.,  1403.,  1421.],\n",
    "         [ 1457.,  1475.,  1493.],\n",
    "         [ 1529.,  1547.,  1565.]]],\n",
    "       [[[ -944.,  -974., -1004.],\n",
    "         [-1064., -1094., -1124.],\n",
    "         [-1184., -1214., -1244.]],\n",
    "        [[ 2249.,  2267.,  2285.],\n",
    "         [ 2321.,  2339.,  2357.],\n",
    "         [ 2393.,  2411.,  2429.]]]])\n",
    "\n",
    "print max_and_argmax(y[0,0,:,:],keepdims_argmax=True)"
   ]
  },
  {
   "cell_type": "code",
   "execution_count": null,
   "metadata": {
    "collapsed": false
   },
   "outputs": [
    {
     "name": "stderr",
     "output_type": "stream",
     "text": [
      "INFO:root:Initialising data providers...\n",
      "INFO:root:Training started...\n"
     ]
    },
    {
     "name": "stdout",
     "output_type": "stream",
     "text": [
      "(10, 1, 28, 28) inputs\n",
      "(1, 2, 5, 5) fprop kernels\n",
      "(10, 1, 28, 28) inputs\n",
      "(1, 2, 5, 5) fprop kernels\n",
      "(10, 1, 28, 28) inputs\n",
      "(1, 2, 5, 5) fprop kernels\n",
      "(10, 1, 28, 28) inputs\n",
      "(1, 2, 5, 5) fprop kernels\n",
      "(10, 1, 28, 28) inputs\n",
      "(1, 2, 5, 5) fprop kernels\n",
      "(10, 1, 28, 28) inputs\n",
      "(1, 2, 5, 5) fprop kernels\n",
      "(10, 1, 28, 28) inputs\n",
      "(1, 2, 5, 5) fprop kernels\n",
      "(10, 1, 28, 28) inputs\n",
      "(1, 2, 5, 5) fprop kernels\n",
      "(10, 1, 28, 28) inputs\n",
      "(1, 2, 5, 5) fprop kernels\n",
      "(10, 1, 28, 28) inputs\n",
      "(1, 2, 5, 5) fprop kernels\n",
      "(10, 1, 28, 28) inputs\n",
      "(1, 2, 5, 5) fprop kernels\n",
      "(10, 1, 28, 28) inputs\n",
      "(1, 2, 5, 5) fprop kernels\n",
      "(10, 1, 28, 28) inputs\n",
      "(1, 2, 5, 5) fprop kernels\n",
      "(10, 1, 28, 28) inputs\n",
      "(1, 2, 5, 5) fprop kernels\n",
      "(10, 1, 28, 28) inputs\n",
      "(1, 2, 5, 5) fprop kernels\n",
      "(10, 1, 28, 28) inputs\n",
      "(1, 2, 5, 5) fprop kernels\n",
      "(10, 1, 28, 28) inputs\n",
      "(1, 2, 5, 5) fprop kernels\n",
      "(10, 1, 28, 28) inputs\n",
      "(1, 2, 5, 5) fprop kernels\n",
      "(10, 1, 28, 28) inputs\n",
      "(1, 2, 5, 5) fprop kernels\n",
      "(10, 1, 28, 28) inputs\n",
      "(1, 2, 5, 5) fprop kernels\n",
      "(10, 1, 28, 28) inputs\n",
      "(1, 2, 5, 5) fprop kernels\n",
      "(10, 1, 28, 28) inputs\n",
      "(1, 2, 5, 5) fprop kernels\n",
      "(10, 1, 28, 28) inputs\n",
      "(1, 2, 5, 5) fprop kernels\n",
      "(10, 1, 28, 28) inputs\n",
      "(1, 2, 5, 5) fprop kernels\n",
      "(10, 1, 28, 28) inputs\n",
      "(1, 2, 5, 5) fprop kernels\n",
      "(10, 1, 28, 28) inputs\n",
      "(1, 2, 5, 5) fprop kernels\n",
      "(10, 1, 28, 28) inputs\n",
      "(1, 2, 5, 5) fprop kernels\n",
      "(10, 1, 28, 28) inputs\n",
      "(1, 2, 5, 5) fprop kernels\n",
      "(10, 1, 28, 28) inputs\n",
      "(1, 2, 5, 5) fprop kernels\n",
      "(10, 1, 28, 28) inputs\n",
      "(1, 2, 5, 5) fprop kernels\n",
      "(10, 1, 28, 28) inputs\n",
      "(1, 2, 5, 5) fprop kernels\n",
      "(10, 1, 28, 28) inputs\n",
      "(1, 2, 5, 5) fprop kernels\n",
      "(10, 1, 28, 28) inputs\n",
      "(1, 2, 5, 5) fprop kernels\n",
      "(10, 1, 28, 28) inputs\n",
      "(1, 2, 5, 5) fprop kernels\n",
      "(10, 1, 28, 28) inputs\n",
      "(1, 2, 5, 5) fprop kernels\n",
      "(10, 1, 28, 28) inputs\n",
      "(1, 2, 5, 5) fprop kernels\n",
      "(10, 1, 28, 28) inputs\n",
      "(1, 2, 5, 5) fprop kernels\n",
      "(10, 1, 28, 28) inputs\n",
      "(1, 2, 5, 5) fprop kernels\n",
      "(10, 1, 28, 28) inputs\n",
      "(1, 2, 5, 5) fprop kernels\n",
      "(10, 1, 28, 28) inputs\n",
      "(1, 2, 5, 5) fprop kernels\n",
      "(10, 1, 28, 28) inputs\n",
      "(1, 2, 5, 5) fprop kernels\n",
      "(10, 1, 28, 28) inputs\n",
      "(1, 2, 5, 5) fprop kernels\n",
      "(10, 1, 28, 28) inputs\n",
      "(1, 2, 5, 5) fprop kernels\n",
      "(10, 1, 28, 28) inputs\n",
      "(1, 2, 5, 5) fprop kernels\n",
      "(10, 1, 28, 28) inputs\n",
      "(1, 2, 5, 5) fprop kernels\n",
      "(10, 1, 28, 28) inputs\n",
      "(1, 2, 5, 5) fprop kernels\n",
      "(10, 1, 28, 28) inputs\n",
      "(1, 2, 5, 5) fprop kernels\n",
      "(10, 1, 28, 28) inputs\n",
      "(1, 2, 5, 5) fprop kernels\n",
      "(10, 1, 28, 28) inputs\n",
      "(1, 2, 5, 5) fprop kernels\n",
      "(10, 1, 28, 28) inputs\n",
      "(1, 2, 5, 5) fprop kernels\n",
      "(10, 1, 28, 28) inputs\n",
      "(1, 2, 5, 5) fprop kernels\n",
      "(10, 1, 28, 28) inputs\n",
      "(1, 2, 5, 5) fprop kernels\n",
      "(10, 1, 28, 28) inputs\n",
      "(1, 2, 5, 5) fprop kernels\n",
      "(10, 1, 28, 28) inputs\n",
      "(1, 2, 5, 5) fprop kernels\n",
      "(10, 1, 28, 28) inputs\n",
      "(1, 2, 5, 5) fprop kernels\n",
      "(10, 1, 28, 28) inputs\n",
      "(1, 2, 5, 5) fprop kernels\n",
      "(10, 1, 28, 28) inputs\n",
      "(1, 2, 5, 5) fprop kernels\n",
      "(10, 1, 28, 28) inputs\n",
      "(1, 2, 5, 5) fprop kernels\n",
      "(10, 1, 28, 28) inputs\n",
      "(1, 2, 5, 5) fprop kernels\n",
      "(10, 1, 28, 28) inputs\n",
      "(1, 2, 5, 5) fprop kernels\n",
      "(10, 1, 28, 28) inputs\n",
      "(1, 2, 5, 5) fprop kernels\n",
      "(10, 1, 28, 28) inputs\n",
      "(1, 2, 5, 5) fprop kernels\n",
      "(10, 1, 28, 28) inputs\n",
      "(1, 2, 5, 5) fprop kernels\n",
      "(10, 1, 28, 28) inputs\n",
      "(1, 2, 5, 5) fprop kernels\n",
      "(10, 1, 28, 28) inputs\n",
      "(1, 2, 5, 5) fprop kernels\n",
      "(10, 1, 28, 28) inputs\n",
      "(1, 2, 5, 5) fprop kernels\n",
      "(10, 1, 28, 28) inputs\n",
      "(1, 2, 5, 5) fprop kernels\n",
      "(10, 1, 28, 28) inputs\n",
      "(1, 2, 5, 5) fprop kernels\n",
      "(10, 1, 28, 28) inputs\n",
      "(1, 2, 5, 5) fprop kernels\n",
      "(10, 1, 28, 28) inputs\n",
      "(1, 2, 5, 5) fprop kernels\n",
      "(10, 1, 28, 28) inputs\n",
      "(1, 2, 5, 5) fprop kernels\n",
      "(10, 1, 28, 28) inputs\n",
      "(1, 2, 5, 5) fprop kernels\n",
      "(10, 1, 28, 28) inputs\n",
      "(1, 2, 5, 5) fprop kernels\n",
      "(10, 1, 28, 28) inputs\n",
      "(1, 2, 5, 5) fprop kernels\n",
      "(10, 1, 28, 28) inputs\n",
      "(1, 2, 5, 5) fprop kernels\n",
      "(10, 1, 28, 28) inputs\n",
      "(1, 2, 5, 5) fprop kernels\n",
      "(10, 1, 28, 28) inputs\n",
      "(1, 2, 5, 5) fprop kernels\n",
      "(10, 1, 28, 28) inputs\n",
      "(1, 2, 5, 5) fprop kernels\n",
      "(10, 1, 28, 28) inputs\n",
      "(1, 2, 5, 5) fprop kernels\n",
      "(10, 1, 28, 28) inputs\n",
      "(1, 2, 5, 5) fprop kernels\n",
      "(10, 1, 28, 28) inputs\n",
      "(1, 2, 5, 5) fprop kernels\n",
      "(10, 1, 28, 28) inputs\n",
      "(1, 2, 5, 5) fprop kernels\n",
      "(10, 1, 28, 28) inputs\n",
      "(1, 2, 5, 5) fprop kernels\n",
      "(10, 1, 28, 28) inputs\n",
      "(1, 2, 5, 5) fprop kernels\n",
      "(10, 1, 28, 28) inputs\n",
      "(1, 2, 5, 5) fprop kernels\n",
      "(10, 1, 28, 28) inputs\n",
      "(1, 2, 5, 5) fprop kernels\n",
      "(10, 1, 28, 28) inputs\n",
      "(1, 2, 5, 5) fprop kernels\n",
      "(10, 1, 28, 28) inputs\n",
      "(1, 2, 5, 5) fprop kernels\n",
      "(10, 1, 28, 28) inputs\n",
      "(1, 2, 5, 5) fprop kernels\n",
      "(10, 1, 28, 28) inputs\n",
      "(1, 2, 5, 5) fprop kernels\n",
      "(10, 1, 28, 28) inputs\n",
      "(1, 2, 5, 5) fprop kernels\n",
      "(10, 1, 28, 28) inputs\n",
      "(1, 2, 5, 5) fprop kernels\n",
      "(10, 1, 28, 28) inputs\n",
      "(1, 2, 5, 5) fprop kernels\n",
      "(10, 1, 28, 28) inputs\n",
      "(1, 2, 5, 5) fprop kernels\n",
      "(10, 1, 28, 28) inputs\n",
      "(1, 2, 5, 5) fprop kernels\n",
      "(10, 1, 28, 28) inputs\n",
      "(1, 2, 5, 5) fprop kernels\n",
      "(10, 1, 28, 28) inputs\n",
      "(1, 2, 5, 5) fprop kernels\n",
      "(10, 1, 28, 28) inputs\n",
      "(1, 2, 5, 5) fprop kernels\n",
      "(10, 1, 28, 28) inputs\n",
      "(1, 2, 5, 5) fprop kernels\n",
      "(10, 1, 28, 28)"
     ]
    },
    {
     "name": "stderr",
     "output_type": "stream",
     "text": [
      "INFO:mlp.optimisers:Epoch 0: Training cost (ce) for initial model is 2.352. Accuracy is 10.60%\n"
     ]
    },
    {
     "name": "stdout",
     "output_type": "stream",
     "text": [
      " inputs\n",
      "(1, 2, 5, 5) fprop kernels\n",
      "(1000, 1, 28, 28) inputs\n",
      "(1, 2, 5, 5) fprop kernels\n",
      "(1000, 1, 28, 28)"
     ]
    }
   ],
   "source": [
    "#Baseline experiment\n",
    "import numpy\n",
    "import logging\n",
    "from mlp.dataset import MNISTDataProvider\n",
    "\n",
    "logger = logging.getLogger()\n",
    "logger.setLevel(logging.INFO)\n",
    "logger.info('Initialising data providers...')\n",
    "\n",
    "train_dp = MNISTDataProvider(dset='train', batch_size=10, max_num_batches=100, randomize=True, conv_reshape = True )\n",
    "valid_dp = MNISTDataProvider(dset='valid', batch_size=1000, max_num_batches=-10, randomize=False, conv_reshape = True)\n",
    "test_dp = MNISTDataProvider(dset='eval', batch_size=1000, max_num_batches=-10, randomize=False, conv_reshape = True)\n",
    "\n",
    "from mlp.layers import MLP, Linear, Sigmoid, Softmax #import required layer types\n",
    "from mlp.conv import ConvLinear, ConvMaxPool2D\n",
    "from mlp.optimisers import SGDOptimiser #import the optimiser\n",
    "\n",
    "from mlp.costs import CECost #import the cost we want to use for optimisation\n",
    "from mlp.schedulers import LearningRateFixed\n",
    "\n",
    "logger = logging.getLogger()\n",
    "logger.setLevel(logging.INFO)\n",
    "rng = numpy.random.RandomState([2015,10,10])\n",
    "\n",
    "#some hyper-parameters\n",
    "nhid = 800\n",
    "learning_rate = 0.5\n",
    "max_epochs = 10\n",
    "cost = CECost()\n",
    "    \n",
    "stats = []\n",
    "\n",
    "train_dp.reset()\n",
    "valid_dp.reset()\n",
    "test_dp.reset()\n",
    "\n",
    "#define the model\n",
    "model = MLP(cost=cost)\n",
    "model.add_layer(ConvLinear(num_inp_feat_maps = 1, num_out_feat_maps = 2, irange=0.2, rng=rng))\n",
    "model.add_layer(ConvMaxPool2D(num_feat_maps = 2, conv_shape = (24,24)))\n",
    "model.add_layer(Sigmoid(idim=2*12*12, odim=2*12*12, irange=0.2, rng=rng))\n",
    "model.add_layer(Softmax(idim=2*12*12, odim=10, rng=rng))\n",
    "\n",
    "# define the optimiser, here stochasitc gradient descent\n",
    "# with fixed learning rate and max_epochs\n",
    "lr_scheduler = LearningRateFixed(learning_rate=learning_rate, max_epochs=max_epochs)\n",
    "optimiser = SGDOptimiser(lr_scheduler=lr_scheduler)\n",
    "\n",
    "logger.info('Training started...')\n",
    "tr_stats, valid_stats = optimiser.train(model, train_dp, valid_dp)\n",
    "\n",
    "logger.info('Testing the model on test set:')\n",
    "tst_cost, tst_accuracy = optimiser.validate(model, test_dp)\n",
    "logger.info('MNIST test set accuracy is %.2f %%, cost (%s) is %.3f'%(tst_accuracy*100., cost.get_name(), tst_cost))\n",
    "\n",
    "stats.append((tr_stats, valid_stats, (tst_cost, tst_accuracy)))"
   ]
  },
  {
   "cell_type": "code",
   "execution_count": null,
   "metadata": {
    "collapsed": true
   },
   "outputs": [],
   "source": []
  }
 ],
 "metadata": {
  "kernelspec": {
   "display_name": "Python 2",
   "language": "python",
   "name": "python2"
  },
  "language_info": {
   "codemirror_mode": {
    "name": "ipython",
    "version": 2
   },
   "file_extension": ".py",
   "mimetype": "text/x-python",
   "name": "python",
   "nbconvert_exporter": "python",
   "pygments_lexer": "ipython2",
   "version": "2.7.11"
  }
 },
 "nbformat": 4,
 "nbformat_minor": 0
}
