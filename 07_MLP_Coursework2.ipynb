{
 "cells": [
  {
   "cell_type": "markdown",
   "metadata": {},
   "source": [
    "**Please don't edit this cell!**\n",
    "\n",
    "# Marks and Feedback\n",
    "\n",
    "**Total Marks:**   XX/100\n",
    "\n",
    "**Overall comments:**\n",
    "\n",
    "\n",
    "## Part 1. Investigations into Neural Networks (35 marks)\n",
    "\n",
    "* **Task 1**:   *Experiments with learning rate schedules* - XX/5\n",
    "    * learning rate schedulers implemented\n",
    "    * experiments carried out\n",
    "    * further comments\n",
    "\n",
    "\n",
    "* **Task 2**:   *Experiments with regularisation* - XX/5\n",
    "    * L1 experiments\n",
    "    * L2 experiments\n",
    "    * dropout experiments\n",
    "    * annealed dropout implmented\n",
    "    * further experiments carried out\n",
    "    * further comments\n",
    "    \n",
    "\n",
    "* **Task 3**:   *Experiments with pretraining* - XX/15\n",
    "    * autoencoder pretraining implemented\n",
    "    * denoising autoencoder pretraining implemented\n",
    "    * CE layer-by-layer pretraining implemented\n",
    "    * experiments\n",
    "    * further comments\n",
    "\n",
    "\n",
    "* **Task 4**:   *Experiments with data augmentation* - XX/5\n",
    "    * training data augmneted using noise, rotation, ...\n",
    "    * any further augmnetations\n",
    "    * experiments \n",
    "    * further comments\n",
    "\n",
    "\n",
    "* **Task 5**:   *State of the art* - XX/5\n",
    "    * motivation for systems constructed\n",
    "    * experiments\n",
    "    * accuracy of best system\n",
    "    * further comments\n",
    "\n",
    "\n",
    "\n",
    "## Part 2. Convolutional Neural Networks (55 marks)\n",
    "\n",
    "* **Task 6**:   *Implement convolutional layer* - XX/20\n",
    "    * linear conv layer\n",
    "    * sigmoid conv layer\n",
    "    * relu conv layer\n",
    "    * any checks for correctness\n",
    "    * loop-based or vectorised implementations\n",
    "    * timing comparisons\n",
    "\n",
    "\n",
    "* **Task 7**:   *Implement maxpooling layer* - XX/10\n",
    "    * implementation of non-overlapping pooling\n",
    "    * generic implementation\n",
    "    * any checks for correctness\n",
    "\n",
    "\n",
    "* **Task 8**:   *Experiments with convolutional networks* - XX/25\n",
    "    * 1 conv layer (1 fmap)\n",
    "    * 1 conv layer (5 fmaps)\n",
    "    * 2 conv layers\n",
    "    * further experiments\n",
    "\n",
    "\n",
    "\n",
    "## Presentation (10 marks)\n",
    "\n",
    "* ** Marks:**   XX/10\n",
    "    * Concise description of each system constructed\n",
    "    * Experiment design and motivations for different systems\n",
    "    * Presentation of results - graphs, tables, diagrams\n",
    "    * Conclusions\n",
    "\n"
   ]
  },
  {
   "cell_type": "markdown",
   "metadata": {},
   "source": [
    "# Coursework #2\n",
    "\n",
    "## Introduction\n",
    "\n",
    "\n",
    "## Previous Tutorials\n",
    "\n",
    "Before starting this coursework make sure that you have completed the following labs:\n",
    "\n",
    "* [04_Regularisation.ipynb](https://github.com/CSTR-Edinburgh/mlpractical/blob/master/04_Regularisation.ipynb) - regularising the model\n",
    "* [05_Transfer_functions.ipynb](https://github.com/CSTR-Edinburgh/mlpractical/blob/master/05_Transfer_functions.ipynb) - building and training different activation functions\n",
    "* [06_MLP_Coursework2_Introduction.ipynb](https://github.com/CSTR-Edinburgh/mlpractical/blob/master/06_MLP_Coursework2_Introduction.ipynb) - Notes on numpy and tensors\n",
    "\n",
    "\n",
    "## Submission\n",
    "**Submission Deadline:  Thursday 14 January 2016, 16:00** \n",
    "\n",
    "Submit the coursework as an ipython notebook file, using the `submit` command in the terminal on a DICE machine. If your file is `06_MLP_Coursework1.ipynb` then you would enter:\n",
    "\n",
    "`submit mlp 2 06_MLP_Coursework1.ipynb` \n",
    "\n",
    "where `mlp 2` indicates this is the second coursework of MLP.\n",
    "\n",
    "After submitting, you should receive an email of acknowledgment from the system confirming that your submission has been received successfully. Keep the email as evidence of your coursework submission.\n",
    "\n",
    "**Please make sure you submit a single `ipynb` file (and nothing else)!**\n",
    "\n",
    "**Submission Deadline:  Thursday 14 January 2016, 16:00** \n",
    "\n"
   ]
  },
  {
   "cell_type": "markdown",
   "metadata": {},
   "source": [
    "## Getting Started\n",
    "Please enter your student number and the date in the next code cell."
   ]
  },
  {
   "cell_type": "code",
   "execution_count": null,
   "metadata": {
    "collapsed": true
   },
   "outputs": [],
   "source": [
    "#MLP Coursework 2\n",
    "#Student number: s1567688\n",
    "#Date: 10/12/2015"
   ]
  },
  {
   "cell_type": "markdown",
   "metadata": {},
   "source": [
    "# Part 1. Investigations into Neural Networks (35 marks)\n",
    "\n",
    "In this part you are may choose exactly what you implement. However, you are expected to express your motivations, observations, and findings in a clear and cohesive way. Try to make it clear why you decided to do certain things. Use graphs and/or tables of results to show trends and other characteristics you think are important. \n",
    "\n",
    "For example, in Task 1 you could experiment with different schedulers in order to compare their convergence properties. In Task 2 you could look into (and visualise) what happens to weights when applying L1 and/or L2 regularisation when training. For instance, you could create sorted histograms of weight magnitudes in in each layer, etc..\n",
    "\n",
    "**Before submission, please collapse all the log entries into smaller boxes (by clicking on the bar on the left hand side)**\n",
    "\n",
    "### Task 1 - Experiments with learning rate schedules (5 marks)\n",
    "\n",
    "Investigate the effect of learning rate schedules on training and accuracy.  Implement at least one additional learning rate scheduler mentioned in the lectures. "
   ]
  },
  {
   "cell_type": "code",
   "execution_count": null,
   "metadata": {
    "collapsed": false,
    "scrolled": true
   },
   "outputs": [],
   "source": [
    "# %load -s LearningRateExponential mlp/schedulers.py\n",
    "class LearningRateExponential(LearningRateScheduler):\n",
    "    def __init__(self, start_rate, max_epochs, training_size, zero_rate=0.5):\n",
    "        \n",
    "        self.training_size = training_size\n",
    "        \n",
    "        assert start_rate > 0, (\n",
    "            \"starting rate expected to be > 0, got %f\" % start_rate\n",
    "        )\n",
    "        assert zero_rate > 0, (\n",
    "            \"zero rate expected to be > 0, got %f\" % zero_rate\n",
    "        )\n",
    "        super(LearningRateExponential, self).__init__(max_epochs)\n",
    "        \n",
    "        self.start_rate = start_rate\n",
    "        self.zero_rate = zero_rate\n",
    "        self.rate = start_rate\n",
    "        self.epoch = 1\n",
    "    \n",
    "    def reset(self):\n",
    "        self.rate = self.start_rate\n",
    "        self.epoch = 1\n",
    "        \n",
    "    def get_rate(self):\n",
    "        if (self.epoch == 1 and self.zero_rate!=None):\n",
    "            return self.zero_rate\n",
    "        return self.rate  \n",
    "\n",
    "    def get_next_rate(self,current_accuracy=None):  \n",
    "        if ( (self.max_epochs > 10000) or (self.epoch >= self.max_epochs) ):\n",
    "            #logging.debug('Setting rate to 0.0. max_epochs or epoch>=max_epochs')\n",
    "            self.rate = 0.0\n",
    "        else:\n",
    "            #Use float or it won't return properly.\n",
    "            self.rate = self.zero_rate * numpy.exp(-float(self.epoch)/float(self.training_size))\n",
    "            self.epoch += 1\n",
    "        logger.info(self.rate)\n",
    "        return self.rate\n"
   ]
  },
  {
   "cell_type": "markdown",
   "metadata": {},
   "source": [
    "### Task 2 - Experiments with regularisers (5 marks)\n",
    "\n",
    "Investigate the effect of different regularisation approaches (L1, L2, dropout).  Implement the annealing dropout scheduler (mentioned in lecture 5). Do some further investigations and experiments with model structures (and regularisers) of your choice. "
   ]
  },
  {
   "cell_type": "code",
   "execution_count": null,
   "metadata": {
    "collapsed": false
   },
   "outputs": [],
   "source": [
    "#Lab4"
   ]
  },
  {
   "cell_type": "markdown",
   "metadata": {},
   "source": [
    "# Below Annealed Dropout is implemented:"
   ]
  },
  {
   "cell_type": "code",
   "execution_count": null,
   "metadata": {
    "collapsed": false
   },
   "outputs": [],
   "source": [
    "%load -s DropoutAnnealed mlp/schedulers.py"
   ]
  },
  {
   "cell_type": "markdown",
   "metadata": {},
   "source": [
    "And changes made to the MLP layer to account for annealed dropout:"
   ]
  },
  {
   "cell_type": "code",
   "execution_count": null,
   "metadata": {
    "collapsed": false
   },
   "outputs": [],
   "source": [
    "# %load -r 118-125 mlp/optimisers.py\n",
    "        \n",
    "        '''\n",
    "            Next epoch, next dropout rate if annealed, otherwise it just returns the dropout rate.\n",
    "            Increments the epoch in the dropout scheduler so the next one is used.\n",
    "        '''\n",
    "        if self.dp_scheduler is not None:\n",
    "            self.dp_scheduler.get_next_rate()\n",
    "        "
   ]
  },
  {
   "cell_type": "markdown",
   "metadata": {},
   "source": [
    "### Task 3 - Experiments with pretraining (15 marks)\n",
    "\n",
    "Implement pretraining of multi-layer networks with autoencoders, denoising autoencoders, and using  layer-by-layer cross-entropy training.  \n",
    "\n",
    "Implementation tip: You could add the corresponding methods to `optimiser`, namely, `pretrain()` and `pretrain_epoch()`, for autoencoders. Simiilarly, `pretrain_discriminative()` and `pretrain_epoch_discriminative()` for cross-entropy layer-by-layer pretraining. Of course, you can modify any other necessary pieces, but include all the modified fragments below."
   ]
  },
  {
   "cell_type": "code",
   "execution_count": null,
   "metadata": {
    "collapsed": true
   },
   "outputs": [],
   "source": [
    "#Both auto-encoders and denoising? Deep autoencoders or just initial layer?\n",
    "'''\n",
    "\n",
    "Final Layer - Sigmoid, use normal backprop of sigmoid, bce?\n",
    "Cross-entropy layer to layer - as expected\n",
    "\n",
    "'''"
   ]
  },
  {
   "cell_type": "markdown",
   "metadata": {},
   "source": [
    "### Task 4 - Experiments with data augmentation (5 marks)\n",
    "\n",
    "Using the standard MNIST training data, generate some augmented training examples (for example, using noise or rotation). Perform experiments on using this expanded training data."
   ]
  },
  {
   "cell_type": "code",
   "execution_count": null,
   "metadata": {
    "collapsed": false
   },
   "outputs": [],
   "source": [
    "#Look at lab4 - Make for loops, to go through batch_size, as its currently just for individual images not batches."
   ]
  },
  {
   "cell_type": "markdown",
   "metadata": {},
   "source": [
    "### Task 5 - State of the art (5 marks)\n",
    "\n",
    "Using any techniques you have learnt so far (combining any number of them), build and train the best model you can (no other constraints)."
   ]
  },
  {
   "cell_type": "code",
   "execution_count": null,
   "metadata": {
    "collapsed": true
   },
   "outputs": [],
   "source": [
    "#Will come back to this after CNN"
   ]
  },
  {
   "cell_type": "markdown",
   "metadata": {
    "collapsed": true
   },
   "source": [
    "# Part 2. Convolutional Neural Networks (55 marks)\n",
    "\n",
    "In this part of the coursework, you are required to implement deep convolutional networks.  This includes code for forward prop, back prop, and weight updates for convolutional and max-pooling layers, and should support the stacking of convolutional + pooling layers.  You should implement all the parts relating to the convolutional layer in the mlp/conv.py module; if you decide to implement some routines in cython, keep them in mlp/conv.pyx). Attach both files in this notebook.\n",
    "\n",
    "Implementation tips: Look at [lecture 7](http://www.inf.ed.ac.uk/teaching/courses/mlp/2015/mlp07-cnn.pdf) and [lecture 8](http://www.inf.ed.ac.uk/teaching/courses/mlp/2015/mlp08-cnn2.pdf), and the introductory tutorial, [06_MLP_Coursework2_Introduction.ipynb](https://github.com/CSTR-Edinburgh/mlpractical/blob/master/06_MLP_Coursework2_Introduction.ipynb)\n",
    "\n",
    "### Task 6 -  Implement convolutional layer (20 marks)\n",
    "\n",
    "Implement linear convolutional layer, and then extend to sigmoid and ReLU transfer functions (do it in a similar way to fully-connected layers). Include all relevant code.  It is recommended that you first implement in the naive way with nested loops (python and/or cython);  optionally you may then implement in a vectorised way in numpy.  Include logs for each way you implement the convolutional layer, as timings for different implementations are of interest.  Include all relevant code."
   ]
  },
  {
   "cell_type": "code",
   "execution_count": null,
   "metadata": {
    "collapsed": true
   },
   "outputs": [],
   "source": [
    "import numpy\n",
    "import logging\n",
    "from mlp.dataset import MNISTDataProvider\n",
    "\n",
    "logger = logging.getLogger()\n",
    "logger.setLevel(logging.INFO)\n",
    "logger.info('Initialising data providers...')\n",
    "\n",
    "train_dp = MNISTDataProvider(dset='train', batch_size=10, max_num_batches=100, randomize=True)\n",
    "valid_dp = MNISTDataProvider(dset='valid', batch_size=10000, max_num_batches=-10, randomize=False)\n",
    "test_dp = MNISTDataProvider(dset='eval', batch_size=10000, max_num_batches=-10, randomize=False)\n",
    "\n",
    "#Baseline experiment\n",
    "\n",
    "from mlp.layers import MLP, Linear, Sigmoid, Softmax #import required layer types\n",
    "from mlp.optimisers import SGDOptimiser #import the optimiser\n",
    "\n",
    "from mlp.costs import CECost #import the cost we want to use for optimisation\n",
    "from mlp.schedulers import LearningRateFixed\n",
    "\n",
    "rng = numpy.random.RandomState([2015,10,10])\n",
    "\n",
    "#some hyper-parameters\n",
    "nhid = 800\n",
    "learning_rate = 0.5\n",
    "max_epochs = 30\n",
    "cost = CECost()\n",
    "    \n",
    "stats = []\n",
    "for layer in xrange(1, 2):\n",
    "\n",
    "    train_dp.reset()\n",
    "    valid_dp.reset()\n",
    "    test_dp.reset()\n",
    "    \n",
    "    #define the model\n",
    "    model = MLP(cost=cost)\n",
    "    model.add_layer(ConvLinear(idim=784, odim=nhid, irange=0.2, rng=rng))\n",
    "    model.add_layer(Softmax(idim=nhid, odim=10, rng=rng))\n",
    "\n",
    "    # define the optimiser, here stochasitc gradient descent\n",
    "    # with fixed learning rate and max_epochs\n",
    "    lr_scheduler = LearningRateFixed(learning_rate=learning_rate, max_epochs=max_epochs)\n",
    "    optimiser = SGDOptimiser(lr_scheduler=lr_scheduler)\n",
    "\n",
    "    logger.info('Training started...')\n",
    "    tr_stats, valid_stats = optimiser.train(model, train_dp, valid_dp)\n",
    "\n",
    "    logger.info('Testing the model on test set:')\n",
    "    tst_cost, tst_accuracy = optimiser.validate(model, test_dp)\n",
    "    logger.info('MNIST test set accuracy is %.2f %%, cost (%s) is %.3f'%(tst_accuracy*100., cost.get_name(), tst_cost))\n",
    "    \n",
    "    stats.append((tr_stats, valid_stats, (tst_cost, tst_accuracy)))"
   ]
  },
  {
   "cell_type": "markdown",
   "metadata": {
    "collapsed": true
   },
   "source": [
    "### Task 7 - Implement max-pooling layer (10 marks)\n",
    "\n",
    "Implement a max-pooling layer. Non-overlapping pooling (which was assumed in the lecture presentation) is required. You may also implement a more generic solution with striding as well. Include all relevant code."
   ]
  },
  {
   "cell_type": "code",
   "execution_count": null,
   "metadata": {
    "collapsed": true
   },
   "outputs": [],
   "source": []
  },
  {
   "cell_type": "markdown",
   "metadata": {},
   "source": [
    "### Task 8 - Experiments with convolutional networks (25 marks)\n",
    "\n",
    "Construct convolutional networks with a softmax output layer and a single fully connected hidden layer. Your first experiments should use one convolutional+pooling layer.  As a default use convolutional kernels of dimension 5x5 (stride 1) and pooling regions of 2x2 (stride 2, hence non-overlapping).\n",
    "\n",
    "*  Implement and test a convolutional network with 1 feature map\n",
    "*  Implement and test a convolutional network with 5 feature maps\n",
    "\n",
    "Explore convolutional networks with two convolutional layers, by implementing, training, and evaluating a network with two convolutional+maxpooling layers with 5 feature maps in the first convolutional layer,  and 10 feature maps in the second convolutional layer.\n",
    "\n",
    "Carry out further experiments to optimise the convolutional network architecture (you could explore kernel sizes and strides, number of feature maps, sizes and strides of pooling operator, etc. - it is up to you)."
   ]
  },
  {
   "cell_type": "code",
   "execution_count": null,
   "metadata": {
    "collapsed": true
   },
   "outputs": [],
   "source": []
  },
  {
   "cell_type": "markdown",
   "metadata": {
    "collapsed": true
   },
   "source": [
    "**This is the end of coursework 2.**\n",
    "\n",
    "Please remember to save your notebook, and submit your notebook following the instructions at the top.  Please make sure that you have executed all the code cells when you submit the notebook.\n"
   ]
  },
  {
   "cell_type": "code",
   "execution_count": null,
   "metadata": {
    "collapsed": true
   },
   "outputs": [],
   "source": []
  }
 ],
 "metadata": {
  "kernelspec": {
   "display_name": "Python 2",
   "language": "python",
   "name": "python2"
  },
  "language_info": {
   "codemirror_mode": {
    "name": "ipython",
    "version": 2
   },
   "file_extension": ".py",
   "mimetype": "text/x-python",
   "name": "python",
   "nbconvert_exporter": "python",
   "pygments_lexer": "ipython2",
   "version": "2.7.10"
  }
 },
 "nbformat": 4,
 "nbformat_minor": 0
}
