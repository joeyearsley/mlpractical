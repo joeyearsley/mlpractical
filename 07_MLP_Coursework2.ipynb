{
 "cells": [
  {
   "cell_type": "markdown",
   "metadata": {},
   "source": [
    "**Please don't edit this cell!**\n",
    "\n",
    "# Marks and Feedback\n",
    "\n",
    "**Total Marks:**   XX/100\n",
    "\n",
    "**Overall comments:**\n",
    "\n",
    "\n",
    "## Part 1. Investigations into Neural Networks (35 marks)\n",
    "\n",
    "* **Task 1**:   *Experiments with learning rate schedules* - XX/5\n",
    "    * learning rate schedulers implemented\n",
    "    * experiments carried out\n",
    "    * further comments\n",
    "\n",
    "\n",
    "* **Task 2**:   *Experiments with regularisation* - XX/5\n",
    "    * L1 experiments\n",
    "    * L2 experiments\n",
    "    * dropout experiments\n",
    "    * annealed dropout implmented\n",
    "    * further experiments carried out\n",
    "    * further comments\n",
    "    \n",
    "\n",
    "* **Task 3**:   *Experiments with pretraining* - XX/15\n",
    "    * autoencoder pretraining implemented\n",
    "    * denoising autoencoder pretraining implemented\n",
    "    * CE layer-by-layer pretraining implemented\n",
    "    * experiments\n",
    "    * further comments\n",
    "\n",
    "\n",
    "* **Task 4**:   *Experiments with data augmentation* - XX/5\n",
    "    * training data augmneted using noise, rotation, ...\n",
    "    * any further augmnetations\n",
    "    * experiments \n",
    "    * further comments\n",
    "\n",
    "\n",
    "* **Task 5**:   *State of the art* - XX/5\n",
    "    * motivation for systems constructed\n",
    "    * experiments\n",
    "    * accuracy of best system\n",
    "    * further comments\n",
    "\n",
    "\n",
    "\n",
    "## Part 2. Convolutional Neural Networks (55 marks)\n",
    "\n",
    "* **Task 6**:   *Implement convolutional layer* - XX/20\n",
    "    * linear conv layer\n",
    "    * sigmoid conv layer\n",
    "    * relu conv layer\n",
    "    * any checks for correctness\n",
    "    * loop-based or vectorised implementations\n",
    "    * timing comparisons\n",
    "\n",
    "\n",
    "* **Task 7**:   *Implement maxpooling layer* - XX/10\n",
    "    * implementation of non-overlapping pooling\n",
    "    * generic implementation\n",
    "    * any checks for correctness\n",
    "\n",
    "\n",
    "* **Task 8**:   *Experiments with convolutional networks* - XX/25\n",
    "    * 1 conv layer (1 fmap)\n",
    "    * 1 conv layer (5 fmaps)\n",
    "    * 2 conv layers\n",
    "    * further experiments\n",
    "\n",
    "\n",
    "\n",
    "## Presentation (10 marks)\n",
    "\n",
    "* ** Marks:**   XX/10\n",
    "    * Concise description of each system constructed\n",
    "    * Experiment design and motivations for different systems\n",
    "    * Presentation of results - graphs, tables, diagrams\n",
    "    * Conclusions\n",
    "\n"
   ]
  },
  {
   "cell_type": "markdown",
   "metadata": {},
   "source": [
    "# Coursework #2\n",
    "\n",
    "## Introduction\n",
    "\n",
    "\n",
    "## Previous Tutorials\n",
    "\n",
    "Before starting this coursework make sure that you have completed the following labs:\n",
    "\n",
    "* [04_Regularisation.ipynb](https://github.com/CSTR-Edinburgh/mlpractical/blob/master/04_Regularisation.ipynb) - regularising the model\n",
    "* [05_Transfer_functions.ipynb](https://github.com/CSTR-Edinburgh/mlpractical/blob/master/05_Transfer_functions.ipynb) - building and training different activation functions\n",
    "* [06_MLP_Coursework2_Introduction.ipynb](https://github.com/CSTR-Edinburgh/mlpractical/blob/master/06_MLP_Coursework2_Introduction.ipynb) - Notes on numpy and tensors\n",
    "\n",
    "\n",
    "## Submission\n",
    "**Submission Deadline:  Thursday 14 January 2016, 16:00** \n",
    "\n",
    "Submit the coursework as an ipython notebook file, using the `submit` command in the terminal on a DICE machine. If your file is `06_MLP_Coursework1.ipynb` then you would enter:\n",
    "\n",
    "`submit mlp 2 06_MLP_Coursework1.ipynb` \n",
    "\n",
    "where `mlp 2` indicates this is the second coursework of MLP.\n",
    "\n",
    "After submitting, you should receive an email of acknowledgment from the system confirming that your submission has been received successfully. Keep the email as evidence of your coursework submission.\n",
    "\n",
    "**Please make sure you submit a single `ipynb` file (and nothing else)!**\n",
    "\n",
    "**Submission Deadline:  Thursday 14 January 2016, 16:00** \n",
    "\n"
   ]
  },
  {
   "cell_type": "markdown",
   "metadata": {},
   "source": [
    "## Getting Started\n",
    "Please enter your student number and the date in the next code cell."
   ]
  },
  {
   "cell_type": "code",
   "execution_count": null,
   "metadata": {
    "collapsed": true
   },
   "outputs": [],
   "source": [
    "#MLP Coursework 2\n",
    "#Student number: s1567688\n",
    "#Date: 10/12/2015"
   ]
  },
  {
   "cell_type": "markdown",
   "metadata": {},
   "source": [
    "# Part 1. Investigations into Neural Networks (35 marks)\n",
    "\n",
    "In this part you are may choose exactly what you implement. However, you are expected to express your motivations, observations, and findings in a clear and cohesive way. Try to make it clear why you decided to do certain things. Use graphs and/or tables of results to show trends and other characteristics you think are important. \n",
    "\n",
    "For example, in Task 1 you could experiment with different schedulers in order to compare their convergence properties. In Task 2 you could look into (and visualise) what happens to weights when applying L1 and/or L2 regularisation when training. For instance, you could create sorted histograms of weight magnitudes in in each layer, etc..\n",
    "\n",
    "**Before submission, please collapse all the log entries into smaller boxes (by clicking on the bar on the left hand side)**\n",
    "\n",
    "### Task 1 - Experiments with learning rate schedules (5 marks)\n",
    "\n",
    "Investigate the effect of learning rate schedules on training and accuracy.  Implement at least one additional learning rate scheduler mentioned in the lectures. "
   ]
  },
  {
   "cell_type": "code",
   "execution_count": 1,
   "metadata": {
    "collapsed": false,
    "scrolled": true
   },
   "outputs": [
    {
     "name": "stderr",
     "output_type": "stream",
     "text": [
      "/Library/Python/2.7/site-packages/IPython/nbformat.py:13: ShimWarning: The `IPython.nbformat` package has been deprecated. You should import from nbformat instead.\n",
      "  \"You should import from nbformat instead.\", ShimWarning)\n",
      "/Library/Python/2.7/site-packages/nbformat/current.py:19: UserWarning: nbformat.current is deprecated.\n",
      "\n",
      "- use nbformat for read/write/validate public API\n",
      "- use nbformat.vX directly to composing notebooks of a particular version\n",
      "\n",
      "  \"\"\")\n",
      "INFO:root:Initialising data providers...\n",
      "INFO:root:Training started...\n",
      "INFO:mlp.optimisers:Epoch 1: Training cost (ce) for initial model is 2.624. Accuracy is 8.60%\n",
      "INFO:mlp.optimisers:Epoch 1: Validation cost (ce) for initial model is 2.554. Accuracy is 9.84%\n",
      "INFO:mlp.optimisers:Epoch 2: Training cost (ce) is 3.053. Accuracy is 58.00%\n",
      "INFO:mlp.optimisers:Epoch 2: Validation cost (ce) is 0.600. Accuracy is 81.41%\n",
      "INFO:mlp.optimisers:Epoch 2: Took 4 seconds. Training speed 477 pps. Validation speed 6060 pps.\n",
      "INFO:mlp.optimisers:Epoch 3: Training cost (ce) is 0.423. Accuracy is 88.40%\n",
      "INFO:mlp.optimisers:Epoch 3: Validation cost (ce) is 0.427. Accuracy is 87.73%\n",
      "INFO:mlp.optimisers:Epoch 3: Took 4 seconds. Training speed 470 pps. Validation speed 6036 pps.\n",
      "INFO:mlp.optimisers:Epoch 4: Training cost (ce) is 0.338. Accuracy is 91.30%\n",
      "INFO:mlp.optimisers:Epoch 4: Validation cost (ce) is 0.420. Accuracy is 87.59%\n",
      "INFO:mlp.optimisers:Epoch 4: Took 4 seconds. Training speed 483 pps. Validation speed 6081 pps.\n",
      "INFO:mlp.optimisers:Epoch 5: Training cost (ce) is 0.296. Accuracy is 92.30%\n",
      "INFO:mlp.optimisers:Epoch 5: Validation cost (ce) is 0.375. Accuracy is 88.87%\n",
      "INFO:mlp.optimisers:Epoch 5: Took 4 seconds. Training speed 467 pps. Validation speed 5896 pps.\n",
      "INFO:mlp.optimisers:Epoch 6: Training cost (ce) is 0.245. Accuracy is 93.90%\n",
      "INFO:mlp.optimisers:Epoch 6: Validation cost (ce) is 0.378. Accuracy is 88.87%\n",
      "INFO:mlp.optimisers:Epoch 6: Took 4 seconds. Training speed 468 pps. Validation speed 6039 pps.\n",
      "INFO:mlp.optimisers:Epoch 7: Training cost (ce) is 0.219. Accuracy is 95.10%\n",
      "INFO:mlp.optimisers:Epoch 7: Validation cost (ce) is 0.361. Accuracy is 89.11%\n",
      "INFO:mlp.optimisers:Epoch 7: Took 4 seconds. Training speed 474 pps. Validation speed 5906 pps.\n",
      "INFO:mlp.optimisers:Epoch 8: Training cost (ce) is 0.191. Accuracy is 96.00%\n",
      "INFO:mlp.optimisers:Epoch 8: Validation cost (ce) is 0.369. Accuracy is 89.13%\n",
      "INFO:mlp.optimisers:Epoch 8: Took 4 seconds. Training speed 469 pps. Validation speed 6067 pps.\n",
      "INFO:mlp.optimisers:Epoch 9: Training cost (ce) is 0.167. Accuracy is 96.90%\n",
      "INFO:mlp.optimisers:Epoch 9: Validation cost (ce) is 0.365. Accuracy is 89.24%\n",
      "INFO:mlp.optimisers:Epoch 9: Took 4 seconds. Training speed 482 pps. Validation speed 6090 pps.\n",
      "INFO:mlp.optimisers:Epoch 10: Training cost (ce) is 0.146. Accuracy is 97.50%\n",
      "INFO:mlp.optimisers:Epoch 10: Validation cost (ce) is 0.377. Accuracy is 89.15%\n",
      "INFO:mlp.optimisers:Epoch 10: Took 4 seconds. Training speed 464 pps. Validation speed 5933 pps.\n",
      "INFO:mlp.optimisers:Epoch 11: Training cost (ce) is 0.135. Accuracy is 97.60%\n",
      "INFO:mlp.optimisers:Epoch 11: Validation cost (ce) is 0.361. Accuracy is 89.44%\n",
      "INFO:mlp.optimisers:Epoch 11: Took 4 seconds. Training speed 474 pps. Validation speed 6097 pps.\n",
      "INFO:mlp.optimisers:Epoch 12: Training cost (ce) is 0.116. Accuracy is 98.30%\n",
      "INFO:mlp.optimisers:Epoch 12: Validation cost (ce) is 0.397. Accuracy is 88.69%\n",
      "INFO:mlp.optimisers:Epoch 12: Took 4 seconds. Training speed 450 pps. Validation speed 5976 pps.\n",
      "INFO:mlp.optimisers:Epoch 13: Training cost (ce) is 0.097. Accuracy is 98.80%\n",
      "INFO:mlp.optimisers:Epoch 13: Validation cost (ce) is 0.357. Accuracy is 89.58%\n",
      "INFO:mlp.optimisers:Epoch 13: Took 4 seconds. Training speed 475 pps. Validation speed 5984 pps.\n",
      "INFO:mlp.optimisers:Epoch 14: Training cost (ce) is 0.093. Accuracy is 99.00%\n",
      "INFO:mlp.optimisers:Epoch 14: Validation cost (ce) is 0.358. Accuracy is 89.55%\n",
      "INFO:mlp.optimisers:Epoch 14: Took 4 seconds. Training speed 472 pps. Validation speed 6174 pps.\n",
      "INFO:mlp.optimisers:Epoch 15: Training cost (ce) is 0.087. Accuracy is 99.10%\n",
      "INFO:mlp.optimisers:Epoch 15: Validation cost (ce) is 0.365. Accuracy is 89.47%\n",
      "INFO:mlp.optimisers:Epoch 15: Took 4 seconds. Training speed 469 pps. Validation speed 5907 pps.\n",
      "INFO:mlp.optimisers:Epoch 16: Training cost (ce) is 0.084. Accuracy is 99.20%\n",
      "INFO:mlp.optimisers:Epoch 16: Validation cost (ce) is 0.358. Accuracy is 89.64%\n",
      "INFO:mlp.optimisers:Epoch 16: Took 4 seconds. Training speed 476 pps. Validation speed 5821 pps.\n",
      "INFO:mlp.optimisers:Epoch 17: Training cost (ce) is 0.082. Accuracy is 99.20%\n",
      "INFO:mlp.optimisers:Epoch 17: Validation cost (ce) is 0.367. Accuracy is 89.51%\n",
      "INFO:mlp.optimisers:Epoch 17: Took 4 seconds. Training speed 473 pps. Validation speed 5920 pps.\n",
      "INFO:mlp.optimisers:Epoch 18: Training cost (ce) is 0.079. Accuracy is 99.30%\n",
      "INFO:mlp.optimisers:Epoch 18: Validation cost (ce) is 0.364. Accuracy is 89.60%\n",
      "INFO:mlp.optimisers:Epoch 18: Took 4 seconds. Training speed 473 pps. Validation speed 6162 pps.\n",
      "INFO:mlp.optimisers:Epoch 19: Training cost (ce) is 0.077. Accuracy is 99.30%\n",
      "INFO:mlp.optimisers:Epoch 19: Validation cost (ce) is 0.363. Accuracy is 89.77%\n",
      "INFO:mlp.optimisers:Epoch 19: Took 4 seconds. Training speed 488 pps. Validation speed 5873 pps.\n",
      "INFO:mlp.optimisers:Epoch 20: Training cost (ce) is 0.073. Accuracy is 99.30%\n",
      "INFO:mlp.optimisers:Epoch 20: Validation cost (ce) is 0.365. Accuracy is 89.69%\n",
      "INFO:mlp.optimisers:Epoch 20: Took 4 seconds. Training speed 498 pps. Validation speed 6105 pps.\n",
      "INFO:mlp.optimisers:Epoch 21: Training cost (ce) is 0.070. Accuracy is 99.30%\n",
      "INFO:mlp.optimisers:Epoch 21: Validation cost (ce) is 0.365. Accuracy is 89.65%\n",
      "INFO:mlp.optimisers:Epoch 21: Took 4 seconds. Training speed 488 pps. Validation speed 6118 pps.\n",
      "INFO:mlp.optimisers:Epoch 22: Training cost (ce) is 0.069. Accuracy is 99.40%\n",
      "INFO:mlp.optimisers:Epoch 22: Validation cost (ce) is 0.367. Accuracy is 89.72%\n",
      "INFO:mlp.optimisers:Epoch 22: Took 4 seconds. Training speed 524 pps. Validation speed 6093 pps.\n",
      "INFO:mlp.optimisers:Epoch 23: Training cost (ce) is 0.064. Accuracy is 99.40%\n",
      "INFO:mlp.optimisers:Epoch 23: Validation cost (ce) is 0.364. Accuracy is 89.87%\n",
      "INFO:mlp.optimisers:Epoch 23: Took 4 seconds. Training speed 530 pps. Validation speed 6059 pps.\n",
      "INFO:mlp.optimisers:Epoch 24: Training cost (ce) is 0.063. Accuracy is 99.50%\n",
      "INFO:mlp.optimisers:Epoch 24: Validation cost (ce) is 0.364. Accuracy is 89.85%\n",
      "INFO:mlp.optimisers:Epoch 24: Took 4 seconds. Training speed 531 pps. Validation speed 6129 pps.\n",
      "INFO:mlp.optimisers:Epoch 25: Training cost (ce) is 0.062. Accuracy is 99.40%\n",
      "INFO:mlp.optimisers:Epoch 25: Validation cost (ce) is 0.364. Accuracy is 89.78%\n",
      "INFO:mlp.optimisers:Epoch 25: Took 4 seconds. Training speed 533 pps. Validation speed 5929 pps.\n",
      "INFO:mlp.optimisers:Epoch 26: Training cost (ce) is 0.061. Accuracy is 99.50%\n",
      "INFO:mlp.optimisers:Epoch 26: Validation cost (ce) is 0.365. Accuracy is 89.76%\n",
      "INFO:mlp.optimisers:Epoch 26: Took 3 seconds. Training speed 624 pps. Validation speed 6299 pps.\n",
      "INFO:mlp.optimisers:Epoch 27: Training cost (ce) is 0.060. Accuracy is 99.40%\n",
      "INFO:mlp.optimisers:Epoch 27: Validation cost (ce) is 0.366. Accuracy is 89.75%\n",
      "INFO:mlp.optimisers:Epoch 27: Took 3 seconds. Training speed 591 pps. Validation speed 6049 pps.\n",
      "INFO:mlp.optimisers:Epoch 28: Training cost (ce) is 0.060. Accuracy is 99.50%\n",
      "INFO:mlp.optimisers:Epoch 28: Validation cost (ce) is 0.367. Accuracy is 89.77%\n",
      "INFO:mlp.optimisers:Epoch 28: Took 3 seconds. Training speed 600 pps. Validation speed 6166 pps.\n",
      "INFO:mlp.optimisers:Epoch 29: Training cost (ce) is 0.059. Accuracy is 99.50%\n",
      "INFO:mlp.optimisers:Epoch 29: Validation cost (ce) is 0.366. Accuracy is 89.77%\n",
      "INFO:mlp.optimisers:Epoch 29: Took 3 seconds. Training speed 619 pps. Validation speed 6216 pps.\n",
      "INFO:mlp.optimisers:Epoch 30: Training cost (ce) is 0.058. Accuracy is 99.50%\n",
      "INFO:mlp.optimisers:Epoch 30: Validation cost (ce) is 0.366. Accuracy is 89.73%\n",
      "INFO:mlp.optimisers:Epoch 30: Took 3 seconds. Training speed 588 pps. Validation speed 6199 pps.\n",
      "INFO:mlp.optimisers:Epoch 31: Training cost (ce) is 0.057. Accuracy is 99.50%\n",
      "INFO:mlp.optimisers:Epoch 31: Validation cost (ce) is 0.368. Accuracy is 89.70%\n",
      "INFO:mlp.optimisers:Epoch 30: Took 3 seconds. Training speed 622 pps. Validation speed 5859 pps.\n",
      "INFO:root:Testing the model on test set:\n",
      "INFO:root:MNIST test set accuracy is 89.07 %, cost (ce) is 0.379\n",
      "INFO:root:Training started...\n",
      "INFO:mlp.optimisers:Epoch 1: Training cost (ce) for initial model is 2.624. Accuracy is 8.60%\n",
      "INFO:mlp.optimisers:Epoch 1: Validation cost (ce) for initial model is 2.554. Accuracy is 9.84%\n",
      "INFO:mlp.optimisers:Epoch 2: Training cost (ce) is 2.888. Accuracy is 57.30%\n",
      "INFO:mlp.optimisers:Epoch 2: Validation cost (ce) is 0.656. Accuracy is 79.20%\n",
      "INFO:mlp.optimisers:Epoch 2: Took 4 seconds. Training speed 512 pps. Validation speed 5595 pps.\n",
      "INFO:mlp.optimisers:Epoch 3: Training cost (ce) is 0.503. Accuracy is 84.20%\n",
      "INFO:mlp.optimisers:Epoch 3: Validation cost (ce) is 0.414. Accuracy is 87.74%\n",
      "INFO:mlp.optimisers:Epoch 3: Took 4 seconds. Training speed 527 pps. Validation speed 5573 pps.\n",
      "INFO:mlp.optimisers:Epoch 4: Training cost (ce) is 0.248. Accuracy is 94.30%\n",
      "INFO:mlp.optimisers:Epoch 4: Validation cost (ce) is 0.382. Accuracy is 88.74%\n",
      "INFO:mlp.optimisers:Epoch 4: Took 4 seconds. Training speed 558 pps. Validation speed 5637 pps.\n",
      "INFO:root:Testing the model on test set:\n",
      "INFO:root:MNIST test set accuracy is 88.02 %, cost (ce) is 0.404\n"
     ]
    }
   ],
   "source": [
    "#load the corresponding code here, and also attach scripts that run the experiments ()\n",
    "import io\n",
    "from IPython.nbformat import current\n",
    "\n",
    "def execute_notebook(nbfile):\n",
    "    \n",
    "    with io.open(nbfile) as f:\n",
    "        nb = current.read(f, 'json')\n",
    "    \n",
    "    ip = get_ipython()\n",
    "    \n",
    "    for cell in nb.worksheets[0].cells:\n",
    "        if cell.cell_type != 'code':\n",
    "            continue\n",
    "        ip.run_cell(cell.input)\n",
    "execute_notebook(\"SchedulerExperiment.ipynb\")       \n",
    "\n",
    "\n",
    "'''\n",
    "For RMSProp/AdaGrad, does it have to go in optimisers since it is on weight by weight basis.\n",
    "\n",
    "'''"
   ]
  },
  {
   "cell_type": "markdown",
   "metadata": {},
   "source": [
    "### Task 2 - Experiments with regularisers (5 marks)\n",
    "\n",
    "Investigate the effect of different regularisation approaches (L1, L2, dropout).  Implement the annealing dropout scheduler (mentioned in lecture 5). Do some further investigations and experiments with model structures (and regularisers) of your choice. "
   ]
  },
  {
   "cell_type": "code",
   "execution_count": null,
   "metadata": {
    "collapsed": false
   },
   "outputs": [],
   "source": [
    "#Lab4"
   ]
  },
  {
   "cell_type": "markdown",
   "metadata": {},
   "source": [
    "### Task 3 - Experiments with pretraining (15 marks)\n",
    "\n",
    "Implement pretraining of multi-layer networks with autoencoders, denoising autoencoders, and using  layer-by-layer cross-entropy training.  \n",
    "\n",
    "Implementation tip: You could add the corresponding methods to `optimiser`, namely, `pretrain()` and `pretrain_epoch()`, for autoencoders. Simiilarly, `pretrain_discriminative()` and `pretrain_epoch_discriminative()` for cross-entropy layer-by-layer pretraining. Of course, you can modify any other necessary pieces, but include all the modified fragments below."
   ]
  },
  {
   "cell_type": "code",
   "execution_count": null,
   "metadata": {
    "collapsed": true
   },
   "outputs": [],
   "source": [
    "#Both auto-encoders and denoising? Deep autoencoders or just initial layer?\n",
    "'''\n",
    "\n",
    "Final Layer - Sigmoid, use normal backprop of sigmoid, bce?\n",
    "Cross-entropy layer to layer - as expected\n",
    "\n",
    "'''"
   ]
  },
  {
   "cell_type": "markdown",
   "metadata": {},
   "source": [
    "### Task 4 - Experiments with data augmentation (5 marks)\n",
    "\n",
    "Using the standard MNIST training data, generate some augmented training examples (for example, using noise or rotation). Perform experiments on using this expanded training data."
   ]
  },
  {
   "cell_type": "code",
   "execution_count": null,
   "metadata": {
    "collapsed": false
   },
   "outputs": [],
   "source": [
    "#Look at lab4 - Make for loops, to go through batch_size, as its currently just for individual images not batches."
   ]
  },
  {
   "cell_type": "markdown",
   "metadata": {},
   "source": [
    "### Task 5 - State of the art (5 marks)\n",
    "\n",
    "Using any techniques you have learnt so far (combining any number of them), build and train the best model you can (no other constraints)."
   ]
  },
  {
   "cell_type": "code",
   "execution_count": null,
   "metadata": {
    "collapsed": true
   },
   "outputs": [],
   "source": [
    "#Will come back to this after CNN"
   ]
  },
  {
   "cell_type": "markdown",
   "metadata": {
    "collapsed": true
   },
   "source": [
    "# Part 2. Convolutional Neural Networks (55 marks)\n",
    "\n",
    "In this part of the coursework, you are required to implement deep convolutional networks.  This includes code for forward prop, back prop, and weight updates for convolutional and max-pooling layers, and should support the stacking of convolutional + pooling layers.  You should implement all the parts relating to the convolutional layer in the mlp/conv.py module; if you decide to implement some routines in cython, keep them in mlp/conv.pyx). Attach both files in this notebook.\n",
    "\n",
    "Implementation tips: Look at [lecture 7](http://www.inf.ed.ac.uk/teaching/courses/mlp/2015/mlp07-cnn.pdf) and [lecture 8](http://www.inf.ed.ac.uk/teaching/courses/mlp/2015/mlp08-cnn2.pdf), and the introductory tutorial, [06_MLP_Coursework2_Introduction.ipynb](https://github.com/CSTR-Edinburgh/mlpractical/blob/master/06_MLP_Coursework2_Introduction.ipynb)\n",
    "\n",
    "### Task 6 -  Implement convolutional layer (20 marks)\n",
    "\n",
    "Implement linear convolutional layer, and then extend to sigmoid and ReLU transfer functions (do it in a similar way to fully-connected layers). Include all relevant code.  It is recommended that you first implement in the naive way with nested loops (python and/or cython);  optionally you may then implement in a vectorised way in numpy.  Include logs for each way you implement the convolutional layer, as timings for different implementations are of interest.  Include all relevant code."
   ]
  },
  {
   "cell_type": "code",
   "execution_count": null,
   "metadata": {
    "collapsed": true
   },
   "outputs": [],
   "source": [
    "import numpy\n",
    "import logging\n",
    "from mlp.dataset import MNISTDataProvider\n",
    "\n",
    "logger = logging.getLogger()\n",
    "logger.setLevel(logging.INFO)\n",
    "logger.info('Initialising data providers...')\n",
    "\n",
    "train_dp = MNISTDataProvider(dset='train', batch_size=10, max_num_batches=100, randomize=True)\n",
    "valid_dp = MNISTDataProvider(dset='valid', batch_size=10000, max_num_batches=-10, randomize=False)\n",
    "test_dp = MNISTDataProvider(dset='eval', batch_size=10000, max_num_batches=-10, randomize=False)\n",
    "\n",
    "#Baseline experiment\n",
    "\n",
    "from mlp.layers import MLP, Linear, Sigmoid, Softmax #import required layer types\n",
    "from mlp.optimisers import SGDOptimiser #import the optimiser\n",
    "\n",
    "from mlp.costs import CECost #import the cost we want to use for optimisation\n",
    "from mlp.schedulers import LearningRateFixed\n",
    "\n",
    "rng = numpy.random.RandomState([2015,10,10])\n",
    "\n",
    "#some hyper-parameters\n",
    "nhid = 800\n",
    "learning_rate = 0.5\n",
    "max_epochs = 30\n",
    "cost = CECost()\n",
    "    \n",
    "stats = []\n",
    "for layer in xrange(1, 2):\n",
    "\n",
    "    train_dp.reset()\n",
    "    valid_dp.reset()\n",
    "    test_dp.reset()\n",
    "    \n",
    "    #define the model\n",
    "    model = MLP(cost=cost)\n",
    "    model.add_layer(ConvLinear(idim=784, odim=nhid, irange=0.2, rng=rng))\n",
    "    model.add_layer(Softmax(idim=nhid, odim=10, rng=rng))\n",
    "\n",
    "    # define the optimiser, here stochasitc gradient descent\n",
    "    # with fixed learning rate and max_epochs\n",
    "    lr_scheduler = LearningRateFixed(learning_rate=learning_rate, max_epochs=max_epochs)\n",
    "    optimiser = SGDOptimiser(lr_scheduler=lr_scheduler)\n",
    "\n",
    "    logger.info('Training started...')\n",
    "    tr_stats, valid_stats = optimiser.train(model, train_dp, valid_dp)\n",
    "\n",
    "    logger.info('Testing the model on test set:')\n",
    "    tst_cost, tst_accuracy = optimiser.validate(model, test_dp)\n",
    "    logger.info('MNIST test set accuracy is %.2f %%, cost (%s) is %.3f'%(tst_accuracy*100., cost.get_name(), tst_cost))\n",
    "    \n",
    "    stats.append((tr_stats, valid_stats, (tst_cost, tst_accuracy)))"
   ]
  },
  {
   "cell_type": "markdown",
   "metadata": {
    "collapsed": true
   },
   "source": [
    "### Task 7 - Implement max-pooling layer (10 marks)\n",
    "\n",
    "Implement a max-pooling layer. Non-overlapping pooling (which was assumed in the lecture presentation) is required. You may also implement a more generic solution with striding as well. Include all relevant code."
   ]
  },
  {
   "cell_type": "code",
   "execution_count": null,
   "metadata": {
    "collapsed": true
   },
   "outputs": [],
   "source": []
  },
  {
   "cell_type": "markdown",
   "metadata": {},
   "source": [
    "### Task 8 - Experiments with convolutional networks (25 marks)\n",
    "\n",
    "Construct convolutional networks with a softmax output layer and a single fully connected hidden layer. Your first experiments should use one convolutional+pooling layer.  As a default use convolutional kernels of dimension 5x5 (stride 1) and pooling regions of 2x2 (stride 2, hence non-overlapping).\n",
    "\n",
    "*  Implement and test a convolutional network with 1 feature map\n",
    "*  Implement and test a convolutional network with 5 feature maps\n",
    "\n",
    "Explore convolutional networks with two convolutional layers, by implementing, training, and evaluating a network with two convolutional+maxpooling layers with 5 feature maps in the first convolutional layer,  and 10 feature maps in the second convolutional layer.\n",
    "\n",
    "Carry out further experiments to optimise the convolutional network architecture (you could explore kernel sizes and strides, number of feature maps, sizes and strides of pooling operator, etc. - it is up to you)."
   ]
  },
  {
   "cell_type": "code",
   "execution_count": null,
   "metadata": {
    "collapsed": true
   },
   "outputs": [],
   "source": []
  },
  {
   "cell_type": "markdown",
   "metadata": {
    "collapsed": true
   },
   "source": [
    "**This is the end of coursework 2.**\n",
    "\n",
    "Please remember to save your notebook, and submit your notebook following the instructions at the top.  Please make sure that you have executed all the code cells when you submit the notebook.\n"
   ]
  },
  {
   "cell_type": "code",
   "execution_count": null,
   "metadata": {
    "collapsed": true
   },
   "outputs": [],
   "source": []
  }
 ],
 "metadata": {
  "kernelspec": {
   "display_name": "Python 2",
   "language": "python",
   "name": "python2"
  },
  "language_info": {
   "codemirror_mode": {
    "name": "ipython",
    "version": 2
   },
   "file_extension": ".py",
   "mimetype": "text/x-python",
   "name": "python",
   "nbconvert_exporter": "python",
   "pygments_lexer": "ipython2",
   "version": "2.7.10"
  }
 },
 "nbformat": 4,
 "nbformat_minor": 0
}
